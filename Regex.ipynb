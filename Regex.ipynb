{
 "cells": [
  {
   "cell_type": "code",
   "execution_count": null,
   "id": "b3631af0",
   "metadata": {},
   "outputs": [
    {
     "name": "stdout",
     "output_type": "stream",
     "text": [
      " 1. Start \n",
      " 2. Exit\n",
      "Enter your choice : 1\n",
      "Enter the string : djgasdja\n",
      "Enter the pattern : [a-z]\n",
      " Search result :  Span = (0, 1) , Match = d \n",
      " Match result :  Span = (0, 1) , Match = d \n",
      " Findall result :  ['d', 'j', 'g', 'a', 's', 'd', 'j', 'a']\n",
      " 1. Start \n",
      " 2. Exit\n",
      "Enter your choice : 1\n",
      "Enter the string : jgadfskasdzashasd\n",
      "Enter the pattern : [a-g]\n",
      " Search result :  Span = (1, 2) , Match = g \n",
      " Match result :  Span = None , Match = None \n",
      " Findall result :  ['g', 'a', 'd', 'f', 'a', 'd', 'a', 'a', 'd']\n",
      " 1. Start \n",
      " 2. Exit\n",
      "Enter your choice : 1\n",
      "Enter the string : viarhjhsawkihsk\n",
      "Enter the pattern : [^h]\n",
      " Search result :  Span = (0, 1) , Match = v \n",
      " Match result :  Span = (0, 1) , Match = v \n",
      " Findall result :  ['v', 'i', 'a', 'r', 'j', 's', 'a', 'w', 'k', 'i', 's', 'k']\n",
      " 1. Start \n",
      " 2. Exit\n"
     ]
    }
   ],
   "source": [
    "import re\n",
    "def regex_query(string,pattern):\n",
    "    result={}\n",
    "    \n",
    "    search_result=re.search(pattern,string)\n",
    "    try:\n",
    "        result['search_result']={'span':search_result.span(),'match':search_result.group()}\n",
    "    except:\n",
    "        result['search_result']={'span':None,'match':None}\n",
    "        \n",
    "    match_result=re.match(pattern,string)\n",
    "    try:\n",
    "        result['match_result']={'span':match_result.span(),'match':match_result.group()}\n",
    "    except:\n",
    "        result['match_result']={'span':None,'match':None}\n",
    "        \n",
    "    findall_result=re.findall(pattern,string)\n",
    "    try:\n",
    "        result['findall_result']=findall_result\n",
    "    except:\n",
    "        result['findall_result']={'span':None,'match':None}\n",
    "    return result\n",
    "\n",
    "def query_result(string,pattern):\n",
    "    q_res=regex_query(string,pattern)\n",
    "    print(' Search result : ','Span =',q_res['search_result']['span'],', Match =',q_res['search_result']['match'],'\\n','Match result : ','Span =',q_res['match_result']['span'],', Match =',q_res['match_result']['match'],'\\n','Findall result : ',q_res['findall_result'])\n",
    "\n",
    "n=0\n",
    "while n != 2:\n",
    "    print(' 1. Start \\n 2. Exit')\n",
    "    n=int(input('Enter your choice : '))\n",
    "\n",
    "    if n == 1:\n",
    "        string=input('Enter the string : ')\n",
    "        pattern=input('Enter the pattern : ')\n",
    "        \n",
    "        query_result(string,pattern)"
   ]
  },
  {
   "cell_type": "code",
   "execution_count": null,
   "id": "29653fb8",
   "metadata": {},
   "outputs": [],
   "source": []
  }
 ],
 "metadata": {
  "kernelspec": {
   "display_name": "Python 3 (ipykernel)",
   "language": "python",
   "name": "python3"
  },
  "language_info": {
   "codemirror_mode": {
    "name": "ipython",
    "version": 3
   },
   "file_extension": ".py",
   "mimetype": "text/x-python",
   "name": "python",
   "nbconvert_exporter": "python",
   "pygments_lexer": "ipython3",
   "version": "3.9.7"
  }
 },
 "nbformat": 4,
 "nbformat_minor": 5
}
